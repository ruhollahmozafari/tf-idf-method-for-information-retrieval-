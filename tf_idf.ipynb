{
 "cells": [
  {
   "cell_type": "code",
   "execution_count": 1,
   "metadata": {},
   "outputs": [],
   "source": [
    "from sklearn.feature_extraction.text import TfidfVectorizer\n",
    "import json\n",
    "from sklearn.metrics.pairwise import cosine_similarity\n",
    "from tqdm import tqdm\n",
    "import numpy as np\n",
    "import pandas as pd"
   ]
  },
  {
   "cell_type": "markdown",
   "metadata": {},
   "source": [
    "data preparation"
   ]
  },
  {
   "cell_type": "code",
   "execution_count": 5,
   "metadata": {},
   "outputs": [
    {
     "name": "stdout",
     "output_type": "stream",
     "text": [
      "1969\n",
      "1968\n"
     ]
    },
    {
     "data": {
      "text/plain": [
       "1968"
      ]
     },
     "execution_count": 5,
     "metadata": {},
     "output_type": "execute_result"
    }
   ],
   "source": [
    "df = pd.read_csv('news_data.csv')\n",
    "print(len(df))\n",
    "len(df)\n",
    "corpus = [x for x in df.to_dict(orient='index').values()]\n",
    "docs = [row['title'] for row in corpus if len(str(row.get('title'))) > 10] # avoid the empty or wrong docs\n",
    "\n",
    "print(len(docs))\n",
    "len(docs)\n",
    "    \n",
    "    "
   ]
  },
  {
   "cell_type": "markdown",
   "metadata": {},
   "source": [
    "TF IDF query processing"
   ]
  },
  {
   "cell_type": "code",
   "execution_count": 24,
   "metadata": {},
   "outputs": [
    {
     "name": "stdout",
     "output_type": "stream",
     "text": [
      "(1968, 3166) 3166\n",
      "['حمایت', 'واشنگتن', 'از', 'تلاش', 'های', 'دیپلمات', 'اروپایی', 'آغاز', 'نبرد', 'بر']\n"
     ]
    }
   ],
   "source": [
    "\n",
    "vectorizer = TfidfVectorizer()\n",
    "tfidf_docs = vectorizer.fit_transform(docs)\n",
    "print(tfidf_docs.shape, len(vectorizer.vocabulary_))\n",
    "print(list(vectorizer.vocabulary_.keys())[:10])\n"
   ]
  },
  {
   "cell_type": "code",
   "execution_count": 25,
   "metadata": {},
   "outputs": [],
   "source": [
    "# query\n",
    "def find_query(query : str = None):\n",
    "  result = list()\n",
    "  tfidf_query = vectorizer.transform([query])[0]\n",
    "\n",
    "  # similarities\n",
    "  cosines = []\n",
    "  for doc  in tqdm(tfidf_docs):\n",
    "    cosines.append(float(cosine_similarity(doc, tfidf_query)))\n",
    "    \n",
    "  # sorting\n",
    "  k = 10\n",
    "  sorted_ids = np.argsort(cosines)\n",
    "  for i in range(k):\n",
    "    cur_id = sorted_ids[-i-1]\n",
    "    print((docs[cur_id], round(cosines[cur_id], 3) ))\n",
    "    result.append((docs[cur_id], round(cosines[cur_id], 3) ))\n",
    "  return result\n",
    "  "
   ]
  },
  {
   "cell_type": "code",
   "execution_count": 27,
   "metadata": {},
   "outputs": [
    {
     "name": "stderr",
     "output_type": "stream",
     "text": [
      "1968it [00:04, 464.53it/s]\n"
     ]
    },
    {
     "name": "stdout",
     "output_type": "stream",
     "text": [
      "('برنامه تکراری مجلس برای یارانه\\u200cها', 0.641)\n",
      "('برنامه دولت برای اصلاح نظام پرداخت یارانه', 0.57)\n",
      "('عدالت در پرداخت یارانه\\u200cها', 0.362)\n",
      "('موضع رئیس\\u200cجمهور درباره یارانه\\u200cها', 0.354)\n",
      "('روایت مجلس از برنامه حذف «4200»', 0.339)\n",
      "('افزایش یارانه نقدی منتفی شد', 0.323)\n",
      "('تکذیب صدور کارت یارانه نان', 0.31)\n",
      "('برنامه مکتوب حذف ارز 4200', 0.304)\n",
      "('اصلاح نظام برنامه\\u200cوبودجه کشور', 0.296)\n",
      "('تعطیلی برنامه تلویزیونی «نگاه یک»', 0.291)\n"
     ]
    },
    {
     "name": "stderr",
     "output_type": "stream",
     "text": [
      "1968it [00:03, 519.55it/s]\n"
     ]
    },
    {
     "name": "stdout",
     "output_type": "stream",
     "text": [
      "('دستور رئیسی برای رفع فقر مطلق', 0.358)\n",
      "('برنامه دولت برای رفع فقر مطلق', 0.354)\n",
      "('هجدهمین دور مذاکرات آستانه در سطح وزرای خارجه در ترکیه', 0.311)\n",
      "('کرونا همچنان قربانی می\\u200cگیرد', 0.0)\n",
      "('راز چرخش برجامی روسیه', 0.0)\n",
      "('سیاست متوازن در جنگ اوکراین', 0.0)\n",
      "('محکومیت حمله موشکی رژیم صهیونیستی به حومه دمشق', 0.0)\n",
      "('امضای سند همکاری\\u200c\\u200c\\u200cهای مشترک امنیتی میان ایران و ازبکستان', 0.0)\n",
      "('گفت\\u200cوگوی تلفنی وزرای خارجه ایران و جمهوری آذربایجان', 0.0)\n",
      "('«نور2» در مدار زمین', 0.0)\n"
     ]
    },
    {
     "name": "stderr",
     "output_type": "stream",
     "text": [
      "1968it [00:03, 502.03it/s]\n"
     ]
    },
    {
     "name": "stdout",
     "output_type": "stream",
     "text": [
      "('بسترسازی احیای برجام', 0.431)\n",
      "('نشانه\\u200cهای احیای برجام', 0.427)\n",
      "('بازیگر جدید احیای برجام', 0.398)\n",
      "('نظام بانکی و احیای برجام', 0.386)\n",
      "('خوش\\u200cبینی به احیای برجام', 0.375)\n",
      "('ارزیابی روند مذاکرات احیای برجام', 0.374)\n",
      "('کمپین قطر برای احیای برجام', 0.373)\n",
      "('احیای برجام تا آخر هفته؟', 0.373)\n",
      "('تصمیم جدید دولت آمریکا درباره برجام', 0.371)\n",
      "('طرح اروپا برای نجات برجام', 0.37)\n"
     ]
    },
    {
     "name": "stderr",
     "output_type": "stream",
     "text": [
      "1968it [00:03, 610.40it/s]\n"
     ]
    },
    {
     "name": "stdout",
     "output_type": "stream",
     "text": [
      "('جلسات\\u200c قالیباف\\u200c با \\u200cرئیسی \\u200cدرباره حذف ارز ۴۲۰۰ تومانی', 0.56)\n",
      "('تبعات حذف ارز 4200', 0.259)\n",
      "('\\u200cشرط مجلس برای حذف ارز 4200', 0.253)\n",
      "('نگرانی مجلس از حذف ارز 4200', 0.252)\n",
      "('تکذیب حذف ارز ترجیحی دارو', 0.248)\n",
      "('اهداف حذف ارز 4200 در بودجه', 0.236)\n",
      "('برنامه مکتوب حذف ارز 4200', 0.233)\n",
      "('سردرگمی در اجرای حذف ارز 4200', 0.229)\n",
      "('شرط موافقت با حذف ارز ترجیحی', 0.227)\n",
      "('ارز دارو و گندم حذف نمی\\u200cشود', 0.222)\n"
     ]
    },
    {
     "name": "stderr",
     "output_type": "stream",
     "text": [
      "1968it [00:03, 584.97it/s]\n"
     ]
    },
    {
     "name": "stdout",
     "output_type": "stream",
     "text": [
      "('کنترل مستمر بازار ضروری است', 0.494)\n",
      "('دولت نسبت به تورم حساس است', 0.305)\n",
      "('درخواست کنترل مهاجرت به پایتخت', 0.297)\n",
      "('وعده قالیباف؛ تورم کاهش می\\u200cیابد', 0.277)\n",
      "('تذکر به دولت برای تعیین حقوق متناسب با تورم', 0.26)\n",
      "('وضعیت خوب بازار سرمایه در چند هفته اخیر', 0.248)\n",
      "('کنترل نامحسوس سفرهای خارجی مسوولان', 0.248)\n",
      "('پیام رئیس\\u200cجمهورایران برای امنیت بازار گاز', 0.237)\n",
      "('دستگیری 5 اخلال\\u200cگر شاخص بازار ارز', 0.218)\n",
      "('بازار پرندگان وحشی فریدونکنار بسته شد', 0.217)\n"
     ]
    }
   ],
   "source": [
    "queries = ['برنامه یارانه', 'سطح فقر', 'نتبجه مزاکرات برجام', 'ارز ۴۲۰۰', 'کنترل تورم در بازار']\n",
    "result = []\n",
    "for q in queries:\n",
    "    result = find_query(q)\n",
    "    df = pd.DataFrame(data = {'similarity': [r[1] for r in result] , 'doc_title': [r[0] for r in result ]})\n",
    "    df.to_excel(f'samples/{q}.xlsx')\n",
    "\n",
    "    \n"
   ]
  },
  {
   "cell_type": "code",
   "execution_count": null,
   "metadata": {},
   "outputs": [],
   "source": []
  }
 ],
 "metadata": {
  "interpreter": {
   "hash": "916dbcbb3f70747c44a77c7bcd40155683ae19c65e1c03b4aa3499c5328201f1"
  },
  "kernelspec": {
   "display_name": "Python 3.10.4 64-bit",
   "language": "python",
   "name": "python3"
  },
  "language_info": {
   "codemirror_mode": {
    "name": "ipython",
    "version": 3
   },
   "file_extension": ".py",
   "mimetype": "text/x-python",
   "name": "python",
   "nbconvert_exporter": "python",
   "pygments_lexer": "ipython3",
   "version": "3.10.4"
  },
  "orig_nbformat": 4
 },
 "nbformat": 4,
 "nbformat_minor": 2
}
