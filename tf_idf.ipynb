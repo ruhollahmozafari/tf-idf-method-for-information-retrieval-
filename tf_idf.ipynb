{
 "cells": [
  {
   "cell_type": "code",
   "execution_count": 5,
   "metadata": {},
   "outputs": [],
   "source": [
    "from sklearn.feature_extraction.text import TfidfVectorizer\n",
    "import json\n",
    "from sklearn.metrics.pairwise import cosine_similarity\n",
    "from tqdm import tqdm\n",
    "import numpy as np\n",
    "import pandas as pd"
   ]
  },
  {
   "cell_type": "markdown",
   "metadata": {},
   "source": [
    "data preparation"
   ]
  },
  {
   "cell_type": "code",
   "execution_count": 6,
   "metadata": {},
   "outputs": [
    {
     "name": "stdout",
     "output_type": "stream",
     "text": [
      "1969\n",
      "1968\n"
     ]
    },
    {
     "data": {
      "text/plain": [
       "1968"
      ]
     },
     "execution_count": 6,
     "metadata": {},
     "output_type": "execute_result"
    }
   ],
   "source": [
    "df = pd.read_csv('news_data.csv')\n",
    "print(len(df))\n",
    "len(df)\n",
    "corpus = [x for x in df.to_dict(orient='index').values()]\n",
    "docs = [row['title'] for row in corpus if len(str(row.get('title'))) > 10]\n",
    "print(len(docs))\n",
    "len(docs)\n",
    "    \n",
    "    "
   ]
  },
  {
   "cell_type": "markdown",
   "metadata": {},
   "source": [
    "TF IDF query processing"
   ]
  },
  {
   "cell_type": "code",
   "execution_count": 7,
   "metadata": {},
   "outputs": [
    {
     "name": "stdout",
     "output_type": "stream",
     "text": [
      "(1968, 3166) 3166\n",
      "['حمایت', 'واشنگتن', 'از', 'تلاش', 'های', 'دیپلمات', 'اروپایی', 'آغاز', 'نبرد', 'بر']\n"
     ]
    }
   ],
   "source": [
    "\n",
    "vectorizer = TfidfVectorizer()\n",
    "tfidf_docs = vectorizer.fit_transform(docs)\n",
    "print(tfidf_docs.shape, len(vectorizer.vocabulary_))\n",
    "print(list(vectorizer.vocabulary_.keys())[:10])\n"
   ]
  },
  {
   "cell_type": "code",
   "execution_count": 10,
   "metadata": {},
   "outputs": [
    {
     "name": "stderr",
     "output_type": "stream",
     "text": [
      "1968it [00:04, 456.60it/s]"
     ]
    },
    {
     "name": "stdout",
     "output_type": "stream",
     "text": [
      "برنامه دولت برای رفع فقر مطلق 0.6539086532401892\n",
      "دستور رئیسی برای رفع فقر مطلق 0.40873796019972486\n",
      "روایت مجلس از برنامه حذف «4200» 0.3000077563887941\n",
      "برنامه تکراری مجلس برای یارانه‌ها 0.2763362634066536\n",
      "برنامه مکتوب حذف ارز 4200 0.2690144681975543\n",
      "اصلاح نظام برنامه‌وبودجه کشور 0.2620474970414931\n",
      "تعطیلی برنامه تلویزیونی «نگاه یک» 0.2573756989720067\n",
      "برنامه دولت برای اصلاح نظام پرداخت یارانه 0.2459041991538942\n",
      "برنامه‌ای برای افزایش قیمت بنزین نداریم 0.24027208574478462\n",
      "اعلام برنامه‌های بزرگداشت ارتحال امام(ره) 0.2179867726250738\n"
     ]
    },
    {
     "name": "stderr",
     "output_type": "stream",
     "text": [
      "\n"
     ]
    }
   ],
   "source": [
    "# query\n",
    "query = 'برنامه فقر'\n",
    "tfidf_query = vectorizer.transform([query])[0]\n",
    "\n",
    "# similarities\n",
    "cosines = []\n",
    "for doc  in tqdm(tfidf_docs):\n",
    "  cosines.append(float(cosine_similarity(doc, tfidf_query)))\n",
    "  \n",
    "# sorting\n",
    "k = 10\n",
    "sorted_ids = np.argsort(cosines)\n",
    "for i in range(k):\n",
    "  cur_id = sorted_ids[-i-1]\n",
    "  print(docs[cur_id], cosines[cur_id])\n",
    "  "
   ]
  },
  {
   "cell_type": "code",
   "execution_count": null,
   "metadata": {},
   "outputs": [],
   "source": []
  }
 ],
 "metadata": {
  "interpreter": {
   "hash": "916dbcbb3f70747c44a77c7bcd40155683ae19c65e1c03b4aa3499c5328201f1"
  },
  "kernelspec": {
   "display_name": "Python 3.10.4 64-bit",
   "language": "python",
   "name": "python3"
  },
  "language_info": {
   "codemirror_mode": {
    "name": "ipython",
    "version": 3
   },
   "file_extension": ".py",
   "mimetype": "text/x-python",
   "name": "python",
   "nbconvert_exporter": "python",
   "pygments_lexer": "ipython3",
   "version": "3.10.4"
  },
  "orig_nbformat": 4
 },
 "nbformat": 4,
 "nbformat_minor": 2
}
